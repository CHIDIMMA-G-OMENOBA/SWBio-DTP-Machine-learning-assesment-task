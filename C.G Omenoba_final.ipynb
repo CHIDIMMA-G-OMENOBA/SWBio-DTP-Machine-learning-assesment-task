{
 "cells": [
  {
   "cell_type": "markdown",
   "id": "b46aab01-8de6-4329-8c5a-8af5773cb129",
   "metadata": {},
   "source": [
    "# Possible determinants of Birthweight"
   ]
  },
  {
   "cell_type": "markdown",
   "id": "3f167d47-1685-4783-b183-d7a65d8fff2e",
   "metadata": {},
   "source": [
    "## Introduction"
   ]
  },
  {
   "cell_type": "markdown",
   "id": "cb177f7a-0b36-4655-9aa1-941681481c06",
   "metadata": {},
   "source": [
    "The dataset I will be working with described birthweight and possible association with a number of variables.\n",
    "\n",
    "The variables I am most interested in are: **Birthweight** (babies’ birthweight, in lbs), **smoker** (1 = yes, 0 = no); **motherage** (mothers’ age in years); **mppwt** (mothers’ pre pregnancy weight, in lbs), **Gestation** (Gestational age of pregnancy in weeks), **Length** (babies' length in inches) and **catsmoke** (babies born to mothers who were categorised either as non-smokers, smoked 'some' cigarettes or smoked 'many' cigarettes)"
   ]
  },
  {
   "cell_type": "markdown",
   "id": "c4ed9d3e-c952-4a0f-8884-ea521e003e9d",
   "metadata": {},
   "source": [
    "## Script"
   ]
  },
  {
   "cell_type": "markdown",
   "id": "3d896c72-082e-42e1-b9b4-26722ad91b2f",
   "metadata": {},
   "source": [
    "### Reading in the csv file from my directory"
   ]
  },
  {
   "cell_type": "code",
   "execution_count": 18,
   "id": "b1fa5c34-c169-4cec-930b-1850c733a98e",
   "metadata": {},
   "outputs": [],
   "source": [
    "import pandas as pd\n",
    "import numpy as np"
   ]
  },
  {
   "cell_type": "code",
   "execution_count": null,
   "id": "0ccd904b-c3c1-474b-8a3f-21d9fe2599ff",
   "metadata": {},
   "outputs": [],
   "source": [
    "birthweight = pd.read_csv(r\"C:\\Users\\cgonu20\\Desktop\\DATA SCIENCES\\birthweight_win.csv\")\n",
    "birthweight.head()"
   ]
  },
  {
   "cell_type": "code",
   "execution_count": null,
   "id": "fc1d65ac-a25e-41c2-9433-d4ce13f6bd03",
   "metadata": {},
   "outputs": [],
   "source": [
    "#visualising whole dataset.\n",
    "birthweight"
   ]
  },
  {
   "cell_type": "code",
   "execution_count": null,
   "id": "67fe0559-05f8-4179-91b5-96e8e2eb1f19",
   "metadata": {},
   "outputs": [],
   "source": [
    "#42 time points of obtained cases.\n",
    "birthweight.count()"
   ]
  },
  {
   "cell_type": "code",
   "execution_count": null,
   "id": "6e32bb36-0678-41a8-945c-656c9bc09ba8",
   "metadata": {},
   "outputs": [],
   "source": [
    "#Having a graphic look at the whole dataset to see what shape it has.\n",
    "birthweight.plot()"
   ]
  },
  {
   "cell_type": "markdown",
   "id": "852b1948-77cf-4685-b51c-7faa42145030",
   "metadata": {},
   "source": [
    "### Simple calculations/ descriptive analysis"
   ]
  },
  {
   "cell_type": "code",
   "execution_count": null,
   "id": "b2400f54-6657-4f27-af9b-1b6b8ee9effd",
   "metadata": {},
   "outputs": [],
   "source": [
    "#This shows the average birthweight (in kg) of all the babies in the dataset\n",
    "birthweight[\"Birthweight\"].mean()"
   ]
  },
  {
   "cell_type": "code",
   "execution_count": null,
   "id": "0a06ae9d-0447-41ad-87b3-4e580fc96e79",
   "metadata": {},
   "outputs": [],
   "source": [
    "#The average age of mothers in this study\n",
    "birthweight[\"motherage\"].mean()"
   ]
  },
  {
   "cell_type": "code",
   "execution_count": null,
   "id": "dffa82b9-db3a-41fa-848f-4db2d9b95cf7",
   "metadata": {},
   "outputs": [],
   "source": [
    "#The average prepregnancy weight of mothers\n",
    "birthweight[\"mppwt\"].mean()"
   ]
  },
  {
   "cell_type": "code",
   "execution_count": null,
   "id": "c9d4aa1a-7e85-4223-bc4a-50cd89f73c6b",
   "metadata": {},
   "outputs": [],
   "source": [
    "#Average gestational age of babies\n",
    "birthweight[\"Gestation\"].mean()"
   ]
  },
  {
   "cell_type": "markdown",
   "id": "00a54583-0db3-4954-8901-b919acd379de",
   "metadata": {},
   "source": [
    "##### Now that I have a glipse of the basic look of the dataset, I want to find out the maximum and minimum values for the babies birthweight from the columns"
   ]
  },
  {
   "cell_type": "code",
   "execution_count": null,
   "id": "db4f96e9-a32c-45e0-8673-b3d72dceacce",
   "metadata": {},
   "outputs": [],
   "source": [
    "#maximum\n",
    "birthweight[\"Birthweight\"].max()"
   ]
  },
  {
   "cell_type": "code",
   "execution_count": null,
   "id": "28b381be-d692-4c0b-aeb2-27eacb835dde",
   "metadata": {},
   "outputs": [],
   "source": [
    "#minimum\n",
    "birthweight[\"Birthweight\"].min()"
   ]
  },
  {
   "cell_type": "markdown",
   "id": "ea4ce05b-53fa-4abd-a302-3a422723e467",
   "metadata": {},
   "source": [
    "#### I will then like to find out the row that contain the maximum and minimium babies birthweight\n",
    " ##### With this I am hoping to be able to see the row that recorded the biggest/smallest babies weight at birth and make some assuptioms on why this maybe so"
   ]
  },
  {
   "cell_type": "code",
   "execution_count": null,
   "id": "ec2a73bb-6037-46e8-861a-6f9a40055499",
   "metadata": {},
   "outputs": [],
   "source": [
    "birthweight.loc[birthweight['Birthweight'] == 10.0] "
   ]
  },
  {
   "cell_type": "code",
   "execution_count": null,
   "id": "8f992f6b-c437-410f-a66b-46b9d189f076",
   "metadata": {},
   "outputs": [],
   "source": [
    "birthweight.loc[birthweight['Birthweight'] == 4.2]"
   ]
  },
  {
   "cell_type": "markdown",
   "id": "167fdbc6-fdf6-4ca7-9cf4-eff9146d0849",
   "metadata": {},
   "source": [
    "From the above output, one can quickly assume an association between Gestation age and the babies' birthweight. I will be exploring this further later on"
   ]
  },
  {
   "cell_type": "markdown",
   "id": "cc79839f-c9c1-4769-936e-20a4c6dfb169",
   "metadata": {},
   "source": [
    "## Manipulating the dataset"
   ]
  },
  {
   "cell_type": "markdown",
   "id": "892567d9-62b6-4dee-acdc-5b72dc62e8b8",
   "metadata": {},
   "source": [
    "#### Colapsing columns containing variables that explained babies fathers attributes. \n",
    "This is beacause I am only interested in just babies and their mothers, I have also summated the variables, such that each are for individual mother and baby ID"
   ]
  },
  {
   "cell_type": "code",
   "execution_count": null,
   "id": "f3aa9037-2cc2-4afb-9038-982569e55f8b",
   "metadata": {},
   "outputs": [],
   "source": [
    "#Notice the position of the 'ID' now!!!\n",
    "\n",
    "birthweight_collapsed = birthweight.groupby(birthweight['id']).aggregate({'Birthweight': 'sum', 'Gestation': 'sum', 'smoker': 'sum', 'motherage': 'sum', 'mnocig': 'sum', 'catsmoke': 'sum', 'mheight': 'sum', 'mage35': 'sum', 'mppwt': 'sum', 'LowBirthWeight': 'sum'})\n",
    "birthweight_collapsed"
   ]
  },
  {
   "cell_type": "markdown",
   "id": "606e50bf-0cef-41d2-afe2-bfe03e475e4e",
   "metadata": {},
   "source": [
    "## Visualisation of the Relationships between each numerical variables"
   ]
  },
  {
   "cell_type": "code",
   "execution_count": null,
   "id": "cba2e358-0b51-49eb-956e-47514ec0d49e",
   "metadata": {},
   "outputs": [],
   "source": [
    "#This gives me the linear correlation between all these variables\n",
    "\n",
    "%matplotlib inline\n",
    "import seaborn as sns\n",
    "corr = birthweight_collapsed.corr()\n",
    "\n",
    "#plot the heatmap\n",
    "sns.heatmap(corr, vmin=-1.0, vmax=1.0, square=True, cmap=\"RdBu\")"
   ]
  },
  {
   "cell_type": "code",
   "execution_count": null,
   "id": "26107910-dbbf-4c31-96fb-f5905190f365",
   "metadata": {},
   "outputs": [],
   "source": [
    "from pandas.plotting import scatter_matrix\n",
    "\n",
    "#Making a scatter matrix for the different variables and visualsing how each are spread out\n",
    "redish = '#Bithweight'\n",
    "orangeish = '#Gestation'\n",
    "blueish = '#smoker'\n",
    "colormap = np.array([redish,blueish,orangeish])\n",
    "a = scatter_matrix(birthweight_collapsed, figsize=(16, 16))"
   ]
  },
  {
   "cell_type": "markdown",
   "id": "814cda3f-edad-4ad9-b75b-75cfab73e229",
   "metadata": {},
   "source": [
    "#### Exploring further the correlations between birthweight and other variables"
   ]
  },
  {
   "cell_type": "code",
   "execution_count": null,
   "id": "6b248739-5a2b-4ff1-bd5d-90f209e7581d",
   "metadata": {},
   "outputs": [],
   "source": [
    "birthweight_collapsed.corr()"
   ]
  },
  {
   "cell_type": "markdown",
   "id": "dc362f04-b85c-4646-a1ba-6b438446dbfc",
   "metadata": {},
   "source": [
    "From the output above, I noticed that each variable is completely positively correlated to itself. In the next line of code I have replaced this with a NaN value to enable me accurately report observed correlations "
   ]
  },
  {
   "cell_type": "code",
   "execution_count": null,
   "id": "f7fb523e-e1cf-49f2-b0bb-ea56551560ff",
   "metadata": {},
   "outputs": [],
   "source": [
    "import numpy as np\n",
    "corr = birthweight_collapsed.corr()\n",
    "np.fill_diagonal(corr.values, np.nan)\n",
    "corr"
   ]
  },
  {
   "cell_type": "markdown",
   "id": "c5b9d269-ced1-41c3-8615-11af411a33c2",
   "metadata": {},
   "source": [
    "From the output above, I can see a positive correlation between **Birthweight** and **Gestation**, and between **mnocig** and **smoker** \n",
    "\n",
    "The highest negative correlation was seen between **smoker** and **Birthweight**, however, the significance of this association is not tested and as such not known."
   ]
  },
  {
   "cell_type": "code",
   "execution_count": null,
   "id": "104205c3-3a62-4978-9859-5ea3eca87827",
   "metadata": {},
   "outputs": [],
   "source": [
    "#I will be exploring the association between Birthweight and Gestation\n",
    "from pandas.plotting import scatter_matrix\n",
    "import numpy as np"
   ]
  },
  {
   "cell_type": "code",
   "execution_count": null,
   "id": "54d925a2-85cf-4e9f-afbf-02d4f4b1aba2",
   "metadata": {},
   "outputs": [],
   "source": [
    "#visualising the relationship between gestational age and babies weight at birth\n",
    "\n",
    "sns.relplot(data=birthweight_collapsed, x=\"Birthweight\", y=\"Gestation\")"
   ]
  },
  {
   "cell_type": "code",
   "execution_count": null,
   "id": "4a5db2c9-9443-4b36-8db5-c2c56d9dd3ea",
   "metadata": {},
   "outputs": [],
   "source": [
    "#Adding unit of measurement and assigning the values to the variable \"LowBirthWeight to make sense of the plot\n",
    "\n",
    "g = sns.relplot(data=birthweight, x=\"Birthweight\", y=\"Gestation\", hue=\"LowBirthWeight\", style=\"LowBirthWeight\")\n",
    "g.set_axis_labels(\"Birthweight (lbs)\", \"Gestation (wks)\")"
   ]
  },
  {
   "cell_type": "markdown",
   "id": "19ab40bf-0704-47d2-a903-41ee5f2eb4b8",
   "metadata": {},
   "source": [
    "The first thing that I would conclude is that there exist a clear association between gestational age and birthweight. However, this variable alone may not be the only factor influencing babies weight at birth. There seems to be other confounding variables **(e.g mother's that smoke in pregnancy and those that do not, mother's pre pregnancy weight etc,)** and I want to explore this further"
   ]
  },
  {
   "cell_type": "code",
   "execution_count": null,
   "id": "4c4b909c-f70b-49c2-9bb5-06bb5e704ae5",
   "metadata": {},
   "outputs": [],
   "source": [
    "#Looking at how maternal pre-pregancy weight is associated to birthweight scale graphically\n",
    "sns.displot(data=birthweight, x=\"mppwt\", hue=\"LowBirthWeight\", kind=\"kde\", common_norm=False)"
   ]
  },
  {
   "cell_type": "code",
   "execution_count": null,
   "id": "25d52c01-220d-488d-9a05-d5f83189b04a",
   "metadata": {},
   "outputs": [],
   "source": [
    "#Looking at how baby length (inches) is associated with birthweight graphically\n",
    "birthweight.plot.scatter(\n",
    "\"length\", \n",
    "    \"Birthweight\",)"
   ]
  },
  {
   "cell_type": "markdown",
   "id": "9aa421f3-a0d4-40d2-a3bf-4b5fb1957435",
   "metadata": {},
   "source": [
    "### Plotting birthweight against smoking status of mothers 'catsmoke= none smokers, smoked some, and smoked many"
   ]
  },
  {
   "cell_type": "code",
   "execution_count": null,
   "id": "fc92ea19-b74f-45e9-9ead-97af090d86c9",
   "metadata": {},
   "outputs": [],
   "source": [
    "sns.catplot(data=birthweight, x=\"catsmoke\", y=\"Birthweight\")"
   ]
  },
  {
   "cell_type": "code",
   "execution_count": null,
   "id": "be5b441e-4687-41a2-826e-005d3126fa84",
   "metadata": {},
   "outputs": [],
   "source": [
    "sns.catplot(data=birthweight, x=\"catsmoke\", y=\"Birthweight\", kind= \"box\")"
   ]
  },
  {
   "cell_type": "markdown",
   "id": "1e26aa1f-7c9e-4510-91de-8b1332f13828",
   "metadata": {},
   "source": [
    "##### Plotting Birthweight against Gestation and assigning LowBirthWeight scale and smoking status to the variables"
   ]
  },
  {
   "cell_type": "code",
   "execution_count": null,
   "id": "bb6ff2f2-4c98-4efb-b0a8-f319104aedad",
   "metadata": {},
   "outputs": [],
   "source": [
    "sns.relplot(data=birthweight, x=\"Gestation\", y=\"Birthweight\", hue=\"LowBirthWeight\", size=\"smoker\")"
   ]
  },
  {
   "cell_type": "markdown",
   "id": "305318de-6928-417a-bedb-e1a61db4e7cd",
   "metadata": {},
   "source": [
    "## Conclusion 1\n",
    "\n",
    "I can see from the first two plot above that in general, mothers who do not smoke has a slightly higher average compared to the other two category. \n",
    "\n",
    "The last plot indicated that babies born after full term (38 gestational age (weeks) has normal birthweight compared to those born below this age. \n",
    "\n",
    "Again, it seems that babies born to mothers who are non-smokers have normal birthweight compared to others. The significance of this negative association was however not determined."
   ]
  },
  {
   "cell_type": "markdown",
   "id": "593a3bb7-b572-4854-a55d-64c9e7eccc65",
   "metadata": {},
   "source": [
    "### Having a go with creating and training a model (machine learning)"
   ]
  },
  {
   "cell_type": "code",
   "execution_count": null,
   "id": "7c2a54f9-8f02-4d53-bcf1-b25849a45354",
   "metadata": {},
   "outputs": [],
   "source": [
    "#Narrowing the dataset to fewer variables for further exploration of the dataset\n",
    "birthweight_target = birthweight[[\"Birthweight\", \"Gestation\", \"smoker\"]]\n",
    "birthweight_target"
   ]
  },
  {
   "cell_type": "markdown",
   "id": "3c5e7dc5-cf88-4f4d-b2e4-72416e6240cc",
   "metadata": {},
   "source": [
    "### Linear regression"
   ]
  },
  {
   "cell_type": "code",
   "execution_count": null,
   "id": "79827f31-e189-4be9-82ad-a356b996c3c8",
   "metadata": {},
   "outputs": [],
   "source": [
    "from sklearn.linear_model import LinearRegression\n",
    "\n",
    "#fit intercept is true as I can't have negative value.\n",
    "model = LinearRegression(fit_intercept=False)\n",
    "model"
   ]
  },
  {
   "cell_type": "code",
   "execution_count": null,
   "id": "07d9c8e9-e19a-4b44-97e0-68b84e3f8d09",
   "metadata": {},
   "outputs": [],
   "source": [
    "# I wanted to predict Birthweight from Gestational age.\n",
    "X = birthweight_target[[\"Birthweight\"]]\n",
    "y = birthweight_target[\"Gestation\"]"
   ]
  },
  {
   "cell_type": "code",
   "execution_count": null,
   "id": "860b0e94-cf4c-4e97-8e6c-90c13e435cd4",
   "metadata": {},
   "outputs": [],
   "source": [
    "model.fit(X, y)"
   ]
  },
  {
   "cell_type": "code",
   "execution_count": null,
   "id": "7dc5ad41-1e97-4fd1-94c2-44379a619015",
   "metadata": {},
   "outputs": [],
   "source": [
    "x_fit = pd.DataFrame({\"Birthweight\": [X[\"Birthweight\"].min(), X[\"Birthweight\"].max()]})\n",
    "y_pred = model.predict(x_fit)"
   ]
  },
  {
   "cell_type": "code",
   "execution_count": null,
   "id": "e03194b5-b9c4-44a0-8c8d-596778473b97",
   "metadata": {},
   "outputs": [],
   "source": [
    "import matplotlib.pyplot as plt\n",
    "\n",
    "fig, ax = plt.subplots()\n",
    "birthweight_target.plot.scatter(\"Birthweight\", \"Gestation\", ax=ax)\n",
    "ax.plot(x_fit[\"Birthweight\"], y_pred, linestyle=\":\")"
   ]
  },
  {
   "cell_type": "code",
   "execution_count": null,
   "id": "90a2b73d-38de-4ad9-9799-7415d282a157",
   "metadata": {},
   "outputs": [],
   "source": [
    "#Redefining X and y variables\n",
    "print(\"Model gradient: \", model.coef_[0])\n",
    "print(\"Model intercept:\", model.intercept_)"
   ]
  },
  {
   "cell_type": "code",
   "execution_count": null,
   "id": "fe468501-d5e0-4889-9977-b1e8c4f4bff6",
   "metadata": {},
   "outputs": [],
   "source": [
    "X = birthweight_target[[\"Birthweight\"]]\n",
    "y = birthweight_target[\"Gestation\"]"
   ]
  },
  {
   "cell_type": "code",
   "execution_count": null,
   "id": "ab3bc058-ca99-4618-aed9-1a6b593db256",
   "metadata": {},
   "outputs": [],
   "source": [
    "#Splitting the data\n",
    "from sklearn.model_selection import train_test_split\n",
    "train_X, test_X, train_y, test_y = train_test_split(X, y, random_state=42)"
   ]
  },
  {
   "cell_type": "code",
   "execution_count": null,
   "id": "d845e0ae-bd45-4b02-8566-d5db560e5b43",
   "metadata": {},
   "outputs": [],
   "source": [
    "#Plotting to see that train and test are from the same distribution\n",
    "import matplotlib.pyplot as plt\n",
    "\n",
    "fig, ax = plt.subplots()\n",
    "\n",
    "ax.scatter(train_X, train_y, color=\"red\", marker=\"o\", label=\"train\")\n",
    "ax.scatter(test_X, test_y, color=\"blue\", marker=\"x\", label=\"test\")\n",
    "ax.legend()"
   ]
  },
  {
   "cell_type": "code",
   "execution_count": null,
   "id": "a77af665-93a0-4e75-9657-85b853d8e3f8",
   "metadata": {},
   "outputs": [],
   "source": [
    "#Passing train to the fit function\n",
    "\n",
    "from sklearn.linear_model import LinearRegression\n",
    "\n",
    "model = LinearRegression(fit_intercept=True)\n",
    "model.fit(train_X, train_y)"
   ]
  },
  {
   "cell_type": "code",
   "execution_count": null,
   "id": "ca093503-805e-4bd4-9e64-d004140eeddc",
   "metadata": {},
   "outputs": [],
   "source": [
    "#Calling the score method to check the fit\n",
    "\n",
    "model.score(test_X, test_y)"
   ]
  },
  {
   "cell_type": "markdown",
   "id": "7b5927d4-4192-4a7d-b858-bea22adc8162",
   "metadata": {},
   "source": [
    "Although I found that the model scored to be 0.7, it has a relatively no good fit to the data so it was best to try and fit the data using **non-linear regression**"
   ]
  },
  {
   "cell_type": "markdown",
   "id": "75ecdee0-2e8f-4517-b94f-8af2b32a8ea5",
   "metadata": {},
   "source": [
    "### Polynomial regression"
   ]
  },
  {
   "cell_type": "code",
   "execution_count": null,
   "id": "4302385a-7d03-4600-a9db-52a1f35882b1",
   "metadata": {},
   "outputs": [],
   "source": [
    "#importing \n",
    "from sklearn.linear_model import Ridge\n",
    "from sklearn.preprocessing import PolynomialFeatures, SplineTransformer\n",
    "from sklearn.pipeline import make_pipeline\n",
    "\n",
    "\n",
    "model = make_pipeline(PolynomialFeatures(degree=1), Ridge(alpha=1e-3)"
   ]
  },
  {
   "cell_type": "code",
   "execution_count": null,
   "id": "9cce7a25-cb4f-40e9-ad39-4957a786bfe9",
   "metadata": {},
   "outputs": [],
   "source": [
    "#split the data into test and train\n",
    "from sklearn.model_selection import train_test_split\n",
    "\n",
    "train_X, test_X, train_y, test_y = train_test_split(X, y)"
   ]
  },
  {
   "cell_type": "code",
   "execution_count": null,
   "id": "3c038974-b3df-4168-8140-0af310545782",
   "metadata": {},
   "outputs": [],
   "source": [
    "#Plotting to see that train and test are from the same distribution\n",
    "import matplotlib.pyplot as plt\n",
    "\n",
    "fig, ax = plt.subplots()\n",
    "\n",
    "ax.scatter(train_X, train_y, color=\"red\", marker=\"o\", label=\"train\")\n",
    "ax.scatter(test_X, test_y, color=\"blue\", marker=\"x\", label=\"test\")\n",
    "ax.legend()"
   ]
  },
  {
   "cell_type": "code",
   "execution_count": null,
   "id": "57fe4c10-9259-4a0b-8a82-e3b286d5cc6f",
   "metadata": {},
   "outputs": [],
   "source": [
    "#fitting the training data to the model\n",
    "model.fit(train_X, train_y)"
   ]
  },
  {
   "cell_type": "code",
   "execution_count": null,
   "id": "a4af0da4-a9e6-46c5-abf6-1d9f03334420",
   "metadata": {},
   "outputs": [],
   "source": [
    "#score for the polynomial regression model \n",
    "model.score(test_X, test_y)\n",
    "\n",
    "#tried the model initially with a degree of 4, 3 and 2. visually degree of 1 gave a better score."
   ]
  },
  {
   "cell_type": "code",
   "execution_count": null,
   "id": "504fb7f2-fdec-4161-af94-bc5f8fd4bc43",
   "metadata": {},
   "outputs": [],
   "source": [
    "#model prediction\n",
    "import numpy as np\n",
    "x_fit = pd.DataFrame({\"Birthweight\": np.linspace(X[\"Birthweight\"].min(), X[\"Birthweight\"].max())})\n",
    "\n",
    "y_pred = model.predict(x_fit)"
   ]
  },
  {
   "cell_type": "code",
   "execution_count": null,
   "id": "4f7e91da-d5d9-46c9-ac87-3076769c26b6",
   "metadata": {},
   "outputs": [],
   "source": [
    "#visualising the model\n",
    "import matplotlib.pyplot as plt\n",
    "\n",
    "fig, ax = plt.subplots()\n",
    "birthweight_target.plot.scatter(\"Birthweight\", \"Gestation\", ax=ax)\n",
    "ax.plot(x_fit[\"Birthweight\"], y_pred, linestyle=\":\")"
   ]
  },
  {
   "cell_type": "markdown",
   "id": "335ba063-40f1-4a8f-84f2-d5ee34b43f33",
   "metadata": {},
   "source": [
    "## Conclusion 2\n",
    "\n",
    "Both the linear regression and polynomial regression did not give a good fit for Birthweight and Gestation,\n",
    "\n",
    "I did this for all of the confounding variables as most are all continuous predictor variables, therefore their association with baby’s birthweight (output variable) is not very clear. This could explained the non-linear wiggly correlation I got. \n",
    "\n",
    "For example, having an abnormally high or low weight may adversely affect baby’s weight at birth (birthweight). Whatever angle one looks at it, it seems that there is not solely definite positive or negative that can be observed from these variables. I have considered further study to learn how to fit a smoothing spline in python as this will be, to my understanding the way around it."
   ]
  },
  {
   "cell_type": "markdown",
   "id": "7425c1df-6a95-4b00-ac13-8ec5acf0da4f",
   "metadata": {},
   "source": [
    "#### THE END\n",
    "\n",
    "Code running time \n",
    "\n",
    "56 seconds"
   ]
  }
 ],
 "metadata": {
  "kernelspec": {
   "display_name": "Python 3 (ipykernel)",
   "language": "python",
   "name": "python3"
  },
  "language_info": {
   "codemirror_mode": {
    "name": "ipython",
    "version": 3
   },
   "file_extension": ".py",
   "mimetype": "text/x-python",
   "name": "python",
   "nbconvert_exporter": "python",
   "pygments_lexer": "ipython3",
   "version": "3.9.13"
  }
 },
 "nbformat": 4,
 "nbformat_minor": 5
}
